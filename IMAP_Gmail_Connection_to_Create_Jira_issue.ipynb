{
  "nbformat": 4,
  "nbformat_minor": 0,
  "metadata": {
    "colab": {
      "provenance": []
    },
    "kernelspec": {
      "name": "python3",
      "display_name": "Python 3"
    },
    "language_info": {
      "name": "python"
    }
  },
  "cells": [
    {
      "cell_type": "markdown",
      "source": [
        "Baldeep's Code\n"
      ],
      "metadata": {
        "id": "mD5Mcwx-U8dx"
      }
    },
    {
      "cell_type": "code",
      "source": [
        "import imaplib\n",
        "import email\n",
        "from email.header import decode_header\n",
        "import requests\n",
        "from requests.auth import HTTPBasicAuth\n",
        "\n",
        "# Gmail and Jira details\n",
        "GMAIL_USER = 'XYZ@gmail.com'\n",
        "GMAIL_PASSWORD = 'abc def ghi jkl'  # Generate an App Password from your Google account\n",
        "JIRA_URL = 'https://xyz.atlassian.net/rest/api/2/issue'\n",
        "JIRA_USER = 'xyz@gmail.com'\n",
        "JIRA_API_TOKEN = 'ABCDEFGIJKLMNOPQRSTUVWXYZ'\n",
        "\n",
        "# IMAP Gmail connection\n",
        "def connect_to_gmail():\n",
        "    mail = imaplib.IMAP4_SSL(\"imap.gmail.com\")\n",
        "    mail.login(GMAIL_USER, GMAIL_PASSWORD)\n",
        "    mail.select(\"inbox\")\n",
        "    return mail\n",
        "\n",
        "# Function to search for emails from a specific sender\n",
        "def search_emails_from_sender(mail, sender_email):\n",
        "    status, messages = mail.search(None, f'(FROM \"{sender_email}\")')\n",
        "    email_ids = messages[0].split()\n",
        "    return email_ids\n",
        "\n",
        "# Function to get email details (subject, body)\n",
        "def get_email_details(mail, email_id):\n",
        "    res, msg = mail.fetch(email_id, \"(RFC822)\")\n",
        "    for response_part in msg:\n",
        "        if isinstance(response_part, tuple):\n",
        "            msg = email.message_from_bytes(response_part[1])\n",
        "            subject, encoding = decode_header(msg[\"Subject\"])[0]\n",
        "            if isinstance(subject, bytes):\n",
        "                subject = subject.decode(encoding or \"utf-8\")\n",
        "\n",
        "            if msg.is_multipart():\n",
        "                for part in msg.walk():\n",
        "                    if part.get_content_type() == \"text/plain\":\n",
        "                        body = part.get_payload(decode=True).decode()\n",
        "                        return subject, body\n",
        "            else:\n",
        "                body = msg.get_payload(decode=True).decode()\n",
        "                return subject, body\n",
        "    return None, None\n",
        "\n",
        "# Function to create Jira issue\n",
        "def create_jira_issue(project_key, issue_type, summary, description):\n",
        "    headers = {\n",
        "        'Content-Type': 'application/json'\n",
        "    }\n",
        "    auth = HTTPBasicAuth(JIRA_USER, JIRA_API_TOKEN)\n",
        "\n",
        "    data = {\n",
        "    \"fields\": {\n",
        "        \"project\": {\n",
        "            \"key\": project_key\n",
        "        },\n",
        "        \"summary\": summary,\n",
        "        \"description\": description,\n",
        "        \"issuetype\": {\n",
        "            \"name\": issue_type\n",
        "        },\n",
        "        \"assignee\": {\n",
        "            \"name\": \"baldeep.singh@XYZ.com\"  # Replace with the username of the person you're assigning to\n",
        "        }\n",
        "    }\n",
        "}\n",
        "\n",
        "    response = requests.post(JIRA_URL, json=data, headers=headers, auth=auth)\n",
        "\n",
        "    if response.status_code == 201:\n",
        "        print(\"Issue created successfully.\")\n",
        "    else:\n",
        "        print(f\"Failed to create issue. Status code: {response.status_code}, Response: {response.text}\")\n",
        "\n",
        "# Main function to run the process\n",
        "def main():\n",
        "    sender_email = \"baldeep.singh@XYZ.com\"  # Email address to monitor\n",
        "    project_key = \"PROJECT_KEY\"  # Jira project key\n",
        "    issue_type = \"Task\"  # Jira issue type\n",
        "\n",
        "    # Connect to Gmail\n",
        "    mail = connect_to_gmail()\n",
        "\n",
        "    # Search for emails from the specific sender\n",
        "    email_ids = search_emails_from_sender(mail, sender_email)\n",
        "\n",
        "    if email_ids:\n",
        "        for email_id in email_ids:\n",
        "            subject, body = get_email_details(mail, email_id)\n",
        "            if subject and body:\n",
        "                print(f\"Creating Jira issue for email: {subject}\")\n",
        "                create_jira_issue(project_key, issue_type, subject, body)\n",
        "    else:\n",
        "        print(f\"No new emails from {sender_email}\")\n",
        "\n",
        "    # Logout from Gmail\n",
        "    mail.logout()\n",
        "\n",
        "if __name__ == \"__main__\":\n",
        "    main()\n"
      ],
      "metadata": {
        "id": "a2WMm4mJU-9U"
      },
      "execution_count": null,
      "outputs": []
    },
    {
      "cell_type": "code",
      "source": [],
      "metadata": {
        "id": "LWWSYOD0V3KR"
      },
      "execution_count": null,
      "outputs": []
    }
  ]
}